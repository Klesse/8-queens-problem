{
  "nbformat": 4,
  "nbformat_minor": 0,
  "metadata": {
    "colab": {
      "provenance": []
    },
    "kernelspec": {
      "name": "python3",
      "display_name": "Python 3"
    },
    "language_info": {
      "name": "python"
    },
    "accelerator": "GPU",
    "gpuClass": "standard"
  },
  "cells": [
    {
      "cell_type": "markdown",
      "source": [
        "# Genetic Algoritm - 8 Queens Problem\n",
        "\n",
        "# Author: Pedro Malandrin Klesse"
      ],
      "metadata": {
        "id": "98XwDKUEgujX"
      }
    },
    {
      "cell_type": "markdown",
      "source": [
        "# Steps\n",
        "1. Initial Population\n",
        "2. Selection\n",
        "3. Crossover and Mutation\n",
        "4. Returns to Step 2 until the iterations are over"
      ],
      "metadata": {
        "id": "_uA0XDtZa8DK"
      }
    },
    {
      "cell_type": "code",
      "source": [
        "# Libraries\n",
        "\n",
        "import random\n",
        "import numpy as np\n",
        "import matplotlib.pyplot as plt\n"
      ],
      "metadata": {
        "id": "fQxOTsrjtNQX"
      },
      "execution_count": 103,
      "outputs": []
    },
    {
      "cell_type": "code",
      "source": [
        "# Generating the initial population randomly\n",
        "\n",
        "num_ind = 500\n",
        "DIMENSION = 8\n",
        "initial_population = np.zeros((num_ind, DIMENSION), dtype=int)\n",
        "\n",
        "for i in range(num_ind):\n",
        "  for j in range(DIMENSION):\n",
        "    initial_population[i][j] = random.randint(0,DIMENSION-1)\n",
        "\n",
        "# Prints the initial population\n",
        "\"\"\"for i in range(num_ind):\n",
        "  print(initial_population[i])\"\"\"\n"
      ],
      "metadata": {
        "colab": {
          "base_uri": "https://localhost:8080/",
          "height": 35
        },
        "id": "p2cRuTu7Axwd",
        "outputId": "a030f080-cca9-4743-dd8c-867450bbbdf5"
      },
      "execution_count": 97,
      "outputs": [
        {
          "output_type": "execute_result",
          "data": {
            "text/plain": [
              "'for i in range(num_ind):\\n  print(initial_population[i])'"
            ],
            "application/vnd.google.colaboratory.intrinsic+json": {
              "type": "string"
            }
          },
          "metadata": {},
          "execution_count": 97
        }
      ]
    },
    {
      "cell_type": "code",
      "execution_count": 25,
      "metadata": {
        "id": "DB8PNHljggB-"
      },
      "outputs": [],
      "source": [
        "# The fitness function returns the number of pairs that queens are not attacking each other minus the collisions\n",
        "# So, if a queen enters in a collision situation, 28 (max) decreases 1, and so on\n",
        "\n",
        "def fitness(individual):\n",
        "  collisions = 0\n",
        "  ind_len = len(individual)\n",
        "  for i in range(ind_len-1):\n",
        "    for j in range(i+1, ind_len):\n",
        "      # Collision in lines\n",
        "      if individual[i] == individual[j]:\n",
        "        collisions += 1\n",
        "      # Collision in diagonals\n",
        "      elif abs(individual[j]-individual[i]) == abs(i-j):\n",
        "        collisions += 1\n",
        "  return 28 - collisions\n",
        "\n",
        "# This functions return the fitness for a population\n",
        "\n",
        "def return_fitness(population):\n",
        "  fit = []\n",
        "  for ind in population:\n",
        "    f = fitness(ind)\n",
        "    fit.append(f)\n",
        "  return fit\n",
        "\n"
      ]
    },
    {
      "cell_type": "code",
      "source": [
        "# The chosen selection method is the tournament selection\n",
        "\n",
        "def tournament_selection(fitnesses):\n",
        "  ind1 = -1\n",
        "  ind2 = -1\n",
        "\n",
        "  while ind1 == ind2:\n",
        "    # Tournament 1\n",
        "    chosen = random.sample(range(0, num_ind),2)\n",
        "    if fitnesses[chosen[0]] > fitnesses[chosen[1]]:\n",
        "      ind1 = chosen[0]\n",
        "    else:\n",
        "      ind1 = chosen[1]\n",
        "    \n",
        "    # Tournament 2\n",
        "    chosen = random.sample(range(0, num_ind),2)\n",
        "    if fitnesses[chosen[0]] > fitnesses[chosen[1]]:\n",
        "      ind2 = chosen[0]\n",
        "    else:\n",
        "      ind2 = chosen[1]\n",
        "\n",
        "    return ind1, ind2\n",
        "\n"
      ],
      "metadata": {
        "id": "3vnQFN-OtQ5z"
      },
      "execution_count": 26,
      "outputs": []
    },
    {
      "cell_type": "code",
      "source": [
        "def crossover_one_point(ids, population):\n",
        "\n",
        "  point = random.randint(1, 7)\n",
        "\n",
        "  father1 = population[ids[0]]\n",
        "  father2 = population[ids[1]]\n",
        "\n",
        "  offspring1 = np.concatenate([father1[:point], father2[point:]])\n",
        "  offspring2 = np.concatenate([father2[:point], father1[point:]])\n",
        "\n",
        "  return offspring1, offspring2\n",
        "\n",
        "\n",
        "def crossover_two_point(ids, population):\n",
        "  point2 = -1\n",
        "  point1 = random.randint(1,7)\n",
        "\n",
        "  father1 = population[ids[0]]\n",
        "  father2 = population[ids[1]]\n",
        "\n",
        "  while point2 != point1:\n",
        "    point2 = random.randint(1,7)\n",
        "\n",
        "  offspring1 = np.concatenate([father1[point1:], father2[point1:point2], father1[:point2]])\n",
        "  offspring2 = np.concatenate([father2[point1:], father1[point1:point2], father2[:point2]])\n",
        "\n",
        "  return offspring1, offspring2\n",
        "\n",
        "\n",
        "def crossover_uniform(ids, population):\n",
        "  father1 = population[ids[0]]\n",
        "  father2 = population[ids[1]]\n",
        "  offspring1 = np.zeros([8])\n",
        "  offspring2 = np.zeros([8])\n",
        "  for i in range (len(father1)):\n",
        "    if i % 2 == 0:\n",
        "      offspring1[i] = father1[i]\n",
        "      offspring2[i] = father2[i]\n",
        "    else:\n",
        "      offspring1[i] = father2[i]\n",
        "      offspring2[i] = father1[i]\n",
        "  return offspring1, offspring2\n",
        "\n",
        "# Combining randomly the three crossover functions\n",
        "def crossover_mixed(ids, population):\n",
        "  num = random.randint(0, 2)\n",
        "  if num == 0:\n",
        "    offspring1, offspring2 = crossover_one_point(ids, population)\n",
        "  elif num == 1:\n",
        "    offspring1, offspring2 = crossover_two_point(ids, population)\n",
        "  else:\n",
        "    offspring1, offspring2 = crossover_uniform(ids, population)\n",
        "  return offspring1, offspring2\n",
        "\n"
      ],
      "metadata": {
        "id": "GJNJV5YaEkFj"
      },
      "execution_count": 73,
      "outputs": []
    },
    {
      "cell_type": "code",
      "source": [
        "def elitism(fitnesses):\n",
        "  id1 = fitnesses.index(max(fitnesses))\n",
        "\n",
        "  fitnesses.pop(id1)\n",
        "\n",
        "  id2 = fitnesses.index(max(fitnesses))\n",
        "\n",
        "  return id1, id2"
      ],
      "metadata": {
        "id": "xDi3dFaxFZjT"
      },
      "execution_count": 28,
      "outputs": []
    },
    {
      "cell_type": "code",
      "source": [
        "def mutation(sons, rate):\n",
        "  \n",
        "  for i in range(len(sons)):\n",
        "    if random.random() < rate:\n",
        "        index = random.randint(0,DIMENSION-1)\n",
        "        sons[i][index] = random.randint(0,DIMENSION-1)\n",
        "\n",
        "  return sons"
      ],
      "metadata": {
        "id": "bMMkDtWIFqTY"
      },
      "execution_count": 29,
      "outputs": []
    },
    {
      "cell_type": "code",
      "source": [
        "num_generations = 100\n",
        "\n",
        "# ideal_fitness = 28\n",
        "#best_fit_time = np.zeros((num_generations))\n",
        "\n",
        "for it in range(num_generations):\n",
        "  new_population = np.zeros((num_ind,8),dtype=int)\n",
        "  fit = return_fitness(initial_population)\n",
        "\n",
        "  best_id = fit.index(max(fit))\n",
        "  #best_fit_time[it] = max(fit)\n",
        "\n",
        "  elit = elitism(fit.copy())\n",
        "  new_population[0] = new_population[elit[0]]\n",
        "  new_population[1] = new_population[elit[1]]\n",
        "\n",
        "  num_offsprings = 2\n",
        "  while num_offsprings < num_ind:\n",
        "\n",
        "    # Tournament Selection\n",
        "    win_ind = tournament_selection(fit)\n",
        "\n",
        "    #Crossover\n",
        "    offsprings = crossover_mixed(win_ind, initial_population)\n",
        "\n",
        "    # Mutation rate\n",
        "    mut_rate = 0.08\n",
        "\n",
        "    # Mutation with rate of 8%\n",
        "    offsprings = mutation(offsprings,mut_rate)\n",
        "\n",
        "    # Insert offsprings in the new population\n",
        "    new_population[num_offsprings] = offsprings[0]\n",
        "    new_population[num_offsprings+1] = offsprings[1]\n",
        "\n",
        "    # Increase offsprings number\n",
        "    num_offsprings += 2\n",
        "\n",
        "  # Replace the old population to the new one\n",
        "  new_population = new_population.copy()\n",
        "\n",
        "fit = return_fitness(new_population)\n",
        "best_id = fit.index(max(fit))\n",
        "print(\"Fit of the best chromosome (max is 28): \" + str(max(fit)))\n",
        "print(\"Best chromosome: \" + str(new_population[best_id]))\n",
        "\n",
        "\n"
      ],
      "metadata": {
        "colab": {
          "base_uri": "https://localhost:8080/"
        },
        "id": "Cr_W2R5oGaRE",
        "outputId": "6d7d6f7b-322b-4837-dfd5-94ee28673c66"
      },
      "execution_count": 129,
      "outputs": [
        {
          "output_type": "stream",
          "name": "stdout",
          "text": [
            "Fit of the best chromosome (max is 28): 26\n",
            "Best chromosome: [5 3 0 3 7 4 1 1]\n"
          ]
        }
      ]
    }
  ]
}